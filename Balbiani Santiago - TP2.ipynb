{
 "cells": [
  {
   "cell_type": "markdown",
   "metadata": {},
   "source": [
    "# Desarrollo de Modelos Analíticos (Machine Learning)\n",
    "\n",
    "#### Curso: K5551\n",
    "#### Profesor: Ing. Sebastián Barbone\n",
    "#### Alumno: Santiago Balbiani\n"
   ]
  },
  {
   "cell_type": "markdown",
   "metadata": {},
   "source": [
    "### Class 2 - Business Understanding"
   ]
  },
  {
   "cell_type": "markdown",
   "metadata": {},
   "source": [
    "#### Take only clients with 9 Months of Data. Why?\n",
    "#### Take only clients without Active Package. Be careful with the month!"
   ]
  },
  {
   "cell_type": "code",
   "execution_count": 4,
   "metadata": {},
   "outputs": [
    {
     "name": "stdout",
     "output_type": "stream",
     "text": [
      "All clients data\n",
      "(238615, 77)\n",
      "Clients grouped by number of months\n",
      "(26560, 2)\n",
      "Clients with 9 months of Data\n",
      "(238347, 77)\n",
      "Clients without co-branding from January 2019\n",
      "(23660, 2)\n",
      "Clients without Package from January 2019\n",
      "(26026, 2)\n",
      "\n",
      "\n",
      "Starting to filter the customers database to obtain our Universe Customers Data...\n",
      "\n",
      "\n",
      "Filter 1: Only the registries of clients that have 9 months\n",
      "(2145123, 77)\n",
      "Filter 2: Only those clients from Filter 1 that don t have co-branding from January 2019\n",
      "(1915326, 77)\n",
      "Filter 3: Only those clients from Filter 2 that don t have a package from January 2019.\n",
      "Final Customer Universe Data:\n",
      "(1878471, 77)\n",
      "Number of Clients from the Customer Universe Data\n",
      "(23191, 77)\n",
      "\n",
      "\n",
      "Starting to filter the customer Universe to obtain our Target Data...\n",
      "\n",
      "\n",
      "Target Filter 1: Last 2 months of Customers Universe Data\n",
      "(417438, 77)\n",
      "Target Filter 2: Data from previous filter but only those marked as Target\n",
      "(122814, 77)\n",
      "Target Filter 3: Get the clients from previous data\n",
      "(6823, 1)\n"
     ]
    }
   ],
   "source": [
    "#Why only 9 months? Because te information provided by the business has only 9 months\n",
    "# The month for getting the Clients without Active Package is January 2019, because is the last month before the Lead Window.\n",
    "# Before the Lead Window, we are in the past. That means that the last month of the past (which is 1 month before the lead window)\n",
    "# has the latest state of the clients, this is why we are interested in using January 2019 for knowing if the client doesn't have an active package.\n",
    "\n",
    "#          _________________________________\n",
    "#Apr 2019 |   Prediction Window             |   \n",
    "#Mar 2019 |_________________________________|\n",
    "#Feb 2019 |___Lead Window___________________|\n",
    "#Jan 2019 |                                 |--> Jan is the last known state of clients\n",
    "#Dec 2018 |                                 |\n",
    "#Nov 2018 |   Training Window               |\n",
    "#Oct 2018 |                                 |\n",
    "#Sep 2018 |                                 |\n",
    "#Ago 2018 |_________________________________|\n",
    "\n",
    "# Un Dataset es balanceado si: 50% target - 50% non-Target\n",
    "# Tecnicas de sampling implican por ejemplo reducir la cantidad de non-target para balancear el dataset en base a las constraints del negocio\n",
    "# Otra técnica llamada oversampling es duplicar el target para balancear un poco mas el dataset.\n",
    "\n",
    "import pandas as pd\n",
    "import numpy as np\n",
    "customers_all = pd.read_csv('data.csv', delimiter='|')\n",
    "print('All clients data')\n",
    "print(customers_all.shape)\n",
    "#print(customers_all.Month.value_counts()) #26547 OK\n",
    "#groupby('columnName')['ColumnToOperate'].lambdaFunction()\n",
    "#lambdaFunction can be sum or count, for example. It will use the data of 'ColumnToOperate'\n",
    "#with reset_index() you can reset the internal counter\n",
    "#A grouping always involves a calculation like sum or count\n",
    "\n",
    "customers_groupedByMonth = customers_all.groupby('client_id')['Month'].count().reset_index()\n",
    "print('Clients grouped by number of months')\n",
    "print(customers_groupedByMonth.shape)\n",
    "\n",
    "#The [['client_id']] avoids to have 2 fields for Month, Month_x and Month_y, and discards the customers_groupedByMonth.Month.\n",
    "customers_9MonthsHistory = customers_all.merge(customers_groupedByMonth[customers_groupedByMonth.Month == 9][['client_id']], how='inner', on='client_id')\n",
    "print('Clients with 9 months of Data')\n",
    "print(customers_9MonthsHistory.shape)\n",
    "\n",
    "#   Clientes que no tienen tarjeta co-branding en enero de 2019\n",
    "clients_without_coBranding_jan2019 = customers_all[(customers_all['Month'] == '2019-01-01') & (customers_all['CreditCard_CoBranding'] == 'No')]['client_id'].reset_index().drop_duplicates(['client_id'])\n",
    "print('Clients without co-branding from January 2019')\n",
    "print(clients_without_coBranding_jan2019.shape)\n",
    "\n",
    "#   Clientes que no tienen paquete en enero de 2019, Porque es lo que queremos vender y elegimos enero 2019 porque es \n",
    "#  el último mes antes del lead window.\n",
    "Clients_without_package_jan2019 = customers_all[(customers_all['Month'] == '2019-01-01') & (customers_all['Package_Active'] == 'No')]['client_id'].reset_index().drop_duplicates(['client_id'])\n",
    "print('Clients without Package from January 2019')\n",
    "print(Clients_without_package_jan2019.shape)\n",
    "\n",
    "#   Nuestro Universo: Solo clientes con historial completo de 9 meses, que no tienen tarjeta cobranding en enero de 2019 \n",
    "#    y no tienen paquete en enero de 2019.\n",
    "print('\\n')\n",
    "print('Starting to filter the customers database to obtain our Universe Customers Data...')\n",
    "print('\\n')\n",
    "\n",
    "customer_universe = pd.merge(left=customers_all,right=customers_9MonthsHistory['client_id'],left_on=['client_id'],right_on=['client_id'],how='inner')\n",
    "print('Filter 1: Only the registries of clients that have 9 months')\n",
    "print(customer_universe.shape)\n",
    "\n",
    "customer_universe = pd.merge(left=customer_universe,right=clients_without_coBranding_jan2019['client_id'],left_on=['client_id'],right_on=['client_id'],how='inner')\n",
    "print('Filter 2: Only those clients from Filter 1 that don t have co-branding from January 2019')\n",
    "print(customer_universe.shape)\n",
    "\n",
    "customer_universe = pd.merge(left=customer_universe,right=Clients_without_package_jan2019['client_id'],left_on=['client_id'],right_on=['client_id'],how='inner')\n",
    "print('Filter 3: Only those clients from Filter 2 that don t have a package from January 2019.\\nFinal Customer Universe Data:')\n",
    "print(customer_universe.shape)\n",
    "\n",
    "customers_universe_ids = customer_universe.drop_duplicates(['client_id'])\n",
    "print('Number of Clients from the Customer Universe Data')\n",
    "print(customers_universe_ids.shape)\n",
    "\n",
    "print('\\n')\n",
    "print('Starting to filter the customer Universe to obtain our Target Data...')\n",
    "print('\\n')\n",
    "\n",
    "# Since we defined the last 2 months as target, we begin there:\n",
    "universe_data_last_2_months = customer_universe[(customer_universe.Month == '2019-04-01') | (customer_universe.Month == '2019-03-01')].copy()\n",
    "print('Target Filter 1: Last 2 months of Customers Universe Data')\n",
    "print(universe_data_last_2_months.shape)\n",
    "\n",
    "# From the last 2 months data, filter those that are marked as target\n",
    "target_customers_data = universe_data_last_2_months[universe_data_last_2_months['Target'] == 1]\n",
    "print('Target Filter 2: Data from previous filter but only those marked as Target')\n",
    "print(target_customers_data.shape)\n",
    "\n",
    "# Target Clients\n",
    "clients_target = target_customers_data[['client_id']].drop_duplicates(['client_id'])\n",
    "print('Target Filter 3: Get the clients from previous data')\n",
    "print(clients_target.shape)\n",
    "\n",
    "# Building the DataFrame Target vs NonTarget from the Universe\n",
    "clients_target['TGT'] = 1\n",
    "customers_universe_ids = customers_universe_ids.merge(clients_target[['client_id', 'TGT']], how='left', on='client_id')\n",
    "\n",
    "#Filling NaN with Zero\n",
    "customers_universe_ids['TGT'] = customers_universe_ids.TGT.fillna(0)\n"
   ]
  },
  {
   "cell_type": "markdown",
   "metadata": {},
   "source": [
    "### Class 2 - Result: Universe and Target"
   ]
  },
  {
   "cell_type": "code",
   "execution_count": 5,
   "metadata": {},
   "outputs": [
    {
     "name": "stdout",
     "output_type": "stream",
     "text": [
      "Total Universe:  23191\n",
      "Universe Target / Non-Target distribution:\n",
      "TGT\n",
      "0.0    16368\n",
      "1.0     6823\n",
      "Name: count, dtype: int64\n"
     ]
    }
   ],
   "source": [
    "print('Total Universe: ', str(len(customers_universe_ids)))\n",
    "print('Universe Target / Non-Target distribution:')\n",
    "print(customers_universe_ids[['TGT']].value_counts())"
   ]
  },
  {
   "cell_type": "markdown",
   "metadata": {},
   "source": [
    "### Class 3 - Preprocessing and Transformation"
   ]
  },
  {
   "cell_type": "code",
   "execution_count": 6,
   "metadata": {},
   "outputs": [],
   "source": [
    "#Notes:\n",
    "# ABT - Analytic Base Table: Es una tabla que, partiendo de todas las Data Sources, te genera un registro por cliente.\n",
    "\n",
    "# Data Types\n",
    "# - Text: e.g. \"The service is really bad\" --> finding \"bad\" in a text = 1 point, otherwise, 0 point - Add column to BT with average points\n",
    "# - Numerical: Integer, Float, Binary.\n",
    "# - Categorical: Text that represent a category. e.g. \"Product Type\", \"Regions\", \"Study Level\".\n",
    "# - Dates: They can let you get another values. e.g. \"Antiguity\", \"age\"\n",
    "\n",
    "# Features: \n",
    "# - Identity Features: Variables directly used in the BT. e.g. \"Age\". They are taken from the last month of Training Window.\n",
    "# - Trasnform Features: It uses a logic for transforming. e.g. \"Study Level\", \"Client age groups\"\n",
    "# - Aggreate Features: Applies function/s to a Feature ranging a certaing time frame. \n",
    "    #Variables added based in a variable/s that represents a time frame. e.g. \"Account Balance in 3 last 3 months\"\n",
    "    # e.g.2: Using CreditCard_Premiun for creating qty_months_with_creditCard_Premiun\n",
    "\n",
    "# Dealing with Missing Values\n",
    "# - Numericals: Delete the row/column or complete with zero or average, depending on the case.\n",
    "# TIP: df.columns[df.isnull().any()].tolist()\n",
    "\n",
    "# Use Case: \n",
    "# - Find Data Types from Data Sources\n",
    "# - Find Transform Features\n",
    "# - Find possible Transform Features(ordinal Features)\n",
    "# - Find Identity Features\n",
    "# - Create a DF with Identity and Transform Features\n",
    "# - Find Missing Values and fill them\n",
    "\n",
    "##  excluir registros de ultimos 3 meses (Lead window + prediction)\n",
    "##  tratamiento de nulos como hacer en cada caso ==> por lo menos en variables Region y CreditCard_Product\n",
    "##  hacer tratamiento de outliers.\n",
    "##      moda: valor q mas se repite\n",
    "##      mediana: ordenada de menor a mayor, la mitad del dataset\n",
    "\n",
    "#train_data = customers_all[(customers_all['Month'] == '2019-01-01') & (customers_all['Package_Active'] == 'No')]['client_id'].reset_index().drop_duplicates(['client_id'])\n",
    "\n",
    "#len(train_data.client_id.unique()) "
   ]
  },
  {
   "cell_type": "markdown",
   "metadata": {},
   "source": [
    "#### 3.1 Identity Features\n",
    "Age Group, Loan Active, Mortgage Active, Sex, Region"
   ]
  },
  {
   "cell_type": "code",
   "execution_count": 7,
   "metadata": {},
   "outputs": [],
   "source": [
    "# Remember the Identity Features are taken from the last month of the Training Window\n",
    "\n",
    "customer_universe_backup = pd.DataFrame(customer_universe)\n",
    "\n",
    "\n",
    "identity_features = pd.DataFrame(customer_universe, columns = ['client_id', 'Client_Age_grp', \n",
    "                                                                                'Sex', 'Region', 'Mobile', 'Operations_Mobile', \n",
    "                                                                                'Investment_Numbers',\n",
    "                                                                               'Loan_Active', 'CreditCard_Active',\n",
    "                                                                               'Mortgage_Active', 'SavingAccount_Active_ARG',\n",
    "                                                                               'SavingAccount_Active_DOLLAR', 'DebitCard_Active',\n",
    "                                                                               'Investment_Active'])\n",
    "\n",
    "\n",
    "identity_features = identity_features.drop_duplicates(['client_id'])\n",
    "\n",
    "# We remove those fields from the Universe\n",
    "customer_universe.drop(['Client_Age_grp', 'Sex', \n",
    "                        'Region', 'Mobile', 'Operations_Mobile', \n",
    "                        'Investment_Numbers',\n",
    "                        'Loan_Active', 'CreditCard_Active',\n",
    "                        'Mortgage_Active', 'SavingAccount_Active_ARG',\n",
    "                        'SavingAccount_Active_DOLLAR', 'DebitCard_Active',\n",
    "                        'Investment_Active'], axis=1, inplace=True)\n"
   ]
  },
  {
   "cell_type": "markdown",
   "metadata": {},
   "source": [
    "#### 3.2 Transform Features\n",
    "- Client_Age_grp \n",
    "- IsMobile_User \n",
    "- Inversor_Level "
   ]
  },
  {
   "cell_type": "code",
   "execution_count": 8,
   "metadata": {},
   "outputs": [
    {
     "data": {
      "text/plain": [
       "Client_Age_grp\n",
       "Entre 40 y 49 años    6463\n",
       "Entre 30 y 39 años    5551\n",
       "Entre 50 y 59 años    5121\n",
       "Entre 60 y 64 años    2041\n",
       "Entre 65 y 69 años    1669\n",
       "Mayor a 70 años       1174\n",
       "Entre 18 y 29 años    1172\n",
       "Name: count, dtype: int64"
      ]
     },
     "execution_count": 8,
     "metadata": {},
     "output_type": "execute_result"
    }
   ],
   "source": [
    "identity_features.Client_Age_grp.value_counts()"
   ]
  },
  {
   "cell_type": "code",
   "execution_count": 9,
   "metadata": {},
   "outputs": [
    {
     "data": {
      "text/plain": [
       "Client_Age_grp_ord\n",
       "2    6463\n",
       "3    5551\n",
       "4    5121\n",
       "5    2041\n",
       "6    1669\n",
       "7    1174\n",
       "1    1172\n",
       "Name: count, dtype: int64"
      ]
     },
     "execution_count": 9,
     "metadata": {},
     "output_type": "execute_result"
    }
   ],
   "source": [
    "# Transforming a Text into an ordinal variable\n",
    "age_map = {\n",
    "'Entre 18 y 29 años':1, \n",
    "'Entre 40 y 49 años':2,    \n",
    "'Entre 30 y 39 años':3,    \n",
    "'Entre 50 y 59 años':4,    \n",
    "'Entre 60 y 64 años':5,    \n",
    "'Entre 65 y 69 años':6,  \n",
    "'Mayor a 70 años':7        \n",
    "}\n",
    "\n",
    "identity_features['Client_Age_grp_ord'] = identity_features['Client_Age_grp'].map(age_map)\n",
    "\n",
    "identity_features.Client_Age_grp_ord.value_counts()"
   ]
  },
  {
   "cell_type": "code",
   "execution_count": 10,
   "metadata": {},
   "outputs": [
    {
     "name": "stdout",
     "output_type": "stream",
     "text": [
      "(23191, 18)\n"
     ]
    }
   ],
   "source": [
    "\n",
    "\n",
    "def isMobileUser(x):\n",
    "    if(x['Mobile'] == 'Yes' and x['Operations_Mobile'] > 10):\n",
    "        return True\n",
    "    return False\n",
    "\n",
    "def inversorLevel(x):\n",
    "    if(x['Investment_Numbers'] == 0):\n",
    "        return 0\n",
    "    elif(x['Investment_Numbers'] >= 1 and x['Investment_Numbers'] <= 2):\n",
    "        return 1\n",
    "    elif(x['Investment_Numbers'] >= 3 and x['Investment_Numbers'] <= 6):\n",
    "        return 2\n",
    "    elif(x['Investment_Numbers'] >= 7):\n",
    "        return 3\n",
    "\n",
    "identity_features['IsMobile_User'] = identity_features.apply(isMobileUser, axis=1)\n",
    "identity_features['Inversor_Level'] = identity_features.apply(inversorLevel,axis=1)\n",
    "identity_features['Active_Products'] =  (np.where(identity_features.Loan_Active == 'Yes', 1, 0)) + \\\n",
    "                                        (np.where(identity_features.CreditCard_Active == 'Yes', 1, 0)) + \\\n",
    "                                        (np.where(identity_features.Mortgage_Active == 'Yes', 1, 0)) + \\\n",
    "                                        (np.where(identity_features.SavingAccount_Active_ARG == 'Yes', 1, 0)) + \\\n",
    "                                        (np.where(identity_features.SavingAccount_Active_DOLLAR == 'Yes', 1, 0)) + \\\n",
    "                                        (np.where(identity_features.DebitCard_Active == 'Yes', 1, 0)) + \\\n",
    "                                        (np.where(identity_features.Investment_Active == 'Yes', 1, 0))  \n",
    "\n",
    "\n",
    "print(identity_features.shape)"
   ]
  },
  {
   "cell_type": "markdown",
   "metadata": {},
   "source": [
    "#### 3.3 Missing Data in Identity"
   ]
  },
  {
   "cell_type": "code",
   "execution_count": 11,
   "metadata": {},
   "outputs": [
    {
     "data": {
      "text/plain": [
       "Index(['client_id', 'Client_Age_grp', 'Sex', 'Region', 'Mobile',\n",
       "       'Operations_Mobile', 'Investment_Numbers', 'Loan_Active',\n",
       "       'CreditCard_Active', 'Mortgage_Active', 'SavingAccount_Active_ARG',\n",
       "       'SavingAccount_Active_DOLLAR', 'DebitCard_Active', 'Investment_Active',\n",
       "       'Client_Age_grp_ord', 'IsMobile_User', 'Inversor_Level',\n",
       "       'Active_Products'],\n",
       "      dtype='object')"
      ]
     },
     "execution_count": 11,
     "metadata": {},
     "output_type": "execute_result"
    }
   ],
   "source": [
    "identity_features.columns"
   ]
  },
  {
   "cell_type": "code",
   "execution_count": 12,
   "metadata": {},
   "outputs": [
    {
     "data": {
      "text/plain": [
       "['Region']"
      ]
     },
     "execution_count": 12,
     "metadata": {},
     "output_type": "execute_result"
    }
   ],
   "source": [
    "identity_features.columns[identity_features.isnull().any()].tolist()"
   ]
  },
  {
   "cell_type": "code",
   "execution_count": 13,
   "metadata": {},
   "outputs": [
    {
     "name": "stdout",
     "output_type": "stream",
     "text": [
      "The percentage of clients with unknown Region is  21.89 %\n"
     ]
    }
   ],
   "source": [
    "import math\n",
    "\n",
    "def truncate_float(float_number, decimal_places):\n",
    "    multiplier = 10 ** decimal_places\n",
    "    return int(float_number * multiplier) / multiplier\n",
    "\n",
    "identity_features.loc[identity_features['Region'].isnull(),'Region_is_NaN'] = 'Yes'\n",
    "identity_features.loc[identity_features['Region'].notnull(), 'Region_is_NaN'] = 'No'\n",
    "identity_features.Region_is_NaN.value_counts()\n",
    "print('The percentage of clients with unknown Region is ', truncate_float(4166/19025*100,2), '%')"
   ]
  },
  {
   "cell_type": "code",
   "execution_count": 14,
   "metadata": {},
   "outputs": [],
   "source": [
    "# Due to the fact that a little more than 1/5 of the client's Regions are unknown, we create a new Category called \"unknown\""
   ]
  },
  {
   "cell_type": "code",
   "execution_count": 15,
   "metadata": {},
   "outputs": [
    {
     "data": {
      "text/plain": [
       "Region\n",
       "UNKNOWN                          19025\n",
       "BUENOS AIRES                      1241\n",
       "REGION CENTRO                      839\n",
       "REGION NORTE GRANDE ARGENTINO      654\n",
       "REGION PATAGONICA                  466\n",
       "CABA Centro/Norte                  366\n",
       "AMBA Resto                         306\n",
       "REGION CUYO                        294\n",
       "Name: count, dtype: int64"
      ]
     },
     "execution_count": 15,
     "metadata": {},
     "output_type": "execute_result"
    }
   ],
   "source": [
    "identity_features['Region'] = identity_features['Region'].fillna('UNKNOWN')\n",
    "identity_features.Region.value_counts()"
   ]
  },
  {
   "cell_type": "code",
   "execution_count": 16,
   "metadata": {},
   "outputs": [
    {
     "data": {
      "text/plain": [
       "[]"
      ]
     },
     "execution_count": 16,
     "metadata": {},
     "output_type": "execute_result"
    }
   ],
   "source": [
    "identity_features.columns[identity_features.isnull().any()].tolist()"
   ]
  },
  {
   "cell_type": "markdown",
   "metadata": {},
   "source": [
    "#### 3.4 Missing Data in Universe"
   ]
  },
  {
   "cell_type": "code",
   "execution_count": 17,
   "metadata": {},
   "outputs": [
    {
     "data": {
      "text/plain": [
       "['SavingAccount_Balance_Average', 'CreditCard_Product']"
      ]
     },
     "execution_count": 17,
     "metadata": {},
     "output_type": "execute_result"
    }
   ],
   "source": [
    "customer_universe.columns[customer_universe.isnull().any()].tolist()"
   ]
  },
  {
   "cell_type": "code",
   "execution_count": 18,
   "metadata": {},
   "outputs": [],
   "source": [
    "#customer_universe = customer_universe.drop_duplicates('client_id')"
   ]
  },
  {
   "cell_type": "code",
   "execution_count": 19,
   "metadata": {},
   "outputs": [
    {
     "data": {
      "text/plain": [
       "Index(['client_id', 'Target', 'Month', 'First_product_dt', 'Last_product_dt',\n",
       "       'CreditCard_Premium', 'CreditCard_CoBranding',\n",
       "       'SavingAccount_Active_ARG_Salary', 'Package_Active', 'Insurance_Life',\n",
       "       'Insurance_Home', 'Insurance_Accidents', 'Insurance_Mobile',\n",
       "       'Insurance_ATM', 'Insurance_Unemployment',\n",
       "       'SavingAccount_Balance_FirstDate', 'SavingAccount_Balance_LastDate',\n",
       "       'SavingAccount_Balance_Average', 'SavingAccount_Days_with_use',\n",
       "       'SavingAccount_Days_with_Credits', 'SavingAccount_Days_with_Debits',\n",
       "       'SavingAccount_Salary_Payment_Transactions',\n",
       "       'SavingAccount_Transfer_In_Transactions',\n",
       "       'SavingAccount_ATM_Extraction_Transactions',\n",
       "       'SavingAccount_Service_Payment_Transactions',\n",
       "       'SavingAccount_CreditCard_Payment_Transactions',\n",
       "       'SavingAccount_Transfer_Out_Transactions',\n",
       "       'SavingAccount_DebitCard_Spend_Transactions',\n",
       "       'SavingAccount_Transactions_Transactions',\n",
       "       'SavingAccount_Credits_Transactions',\n",
       "       'SavingAccount_Debits_Transactions',\n",
       "       'SavingAccount_Salary_Payment_Amount',\n",
       "       'SavingAccount_Transfer_In_Amount',\n",
       "       'SavingAccount_ATM_Extraction_Amount',\n",
       "       'SavingAccount_Service_Payment_Amount',\n",
       "       'SavingAccount_CreditCard_Payment_Amount',\n",
       "       'SavingAccount_Transfer_Out_Amount',\n",
       "       'SavingAccount_DebitCard_Spend_Amount', 'SavingAccount_Total_Amount',\n",
       "       'SavingAccount_Credits_Amounts', 'SavingAccount_Debits_Amounts',\n",
       "       'Operations_Bank', 'Operations_Terminal', 'Operations_HomeBanking',\n",
       "       'Operations_Ivr', 'Operations_Telemarketer', 'Operations_ATM',\n",
       "       'CreditCard_Balance_ARG', 'CreditCard_Balance_DOLLAR',\n",
       "       'CreditCard_Total_Limit', 'CreditCard_Total_Spending',\n",
       "       'CreditCard_Spending_1_Installment', 'CreditCard_Spending_Installments',\n",
       "       'CreditCard_Spending_CrossBoarder', 'CreditCard_Spending_Aut_Debits',\n",
       "       'CreditCard_Revolving', 'CreditCard_Payment_Aut_Debit',\n",
       "       'CreditCard_Payment_External', 'CreditCard_Payment_Cash',\n",
       "       'CreditCard_Payment_Web', 'CreditCard_Payment_ATM',\n",
       "       'CreditCard_Payment_TAS', 'Email', 'CreditCard_Product'],\n",
       "      dtype='object')"
      ]
     },
     "execution_count": 19,
     "metadata": {},
     "output_type": "execute_result"
    }
   ],
   "source": [
    "customer_universe.columns"
   ]
  },
  {
   "cell_type": "code",
   "execution_count": 20,
   "metadata": {},
   "outputs": [
    {
     "data": {
      "text/plain": [
       "2880"
      ]
     },
     "execution_count": 20,
     "metadata": {},
     "output_type": "execute_result"
    }
   ],
   "source": [
    "customer_universe[customer_universe.SavingAccount_Balance_Average.isnull()].size"
   ]
  },
  {
   "cell_type": "code",
   "execution_count": 21,
   "metadata": {},
   "outputs": [],
   "source": [
    "#We complete the Balance Average with the information available\n",
    "customer_universe['SavingAccount_Balance_Average'] = np.where(customer_universe.SavingAccount_Balance_Average.isnull(),\\\n",
    "                                                             (abs(customer_universe.SavingAccount_Balance_LastDate - customer_universe.SavingAccount_Balance_FirstDate)/2),\\\n",
    "                                                              customer_universe.SavingAccount_Balance_Average)"
   ]
  },
  {
   "cell_type": "code",
   "execution_count": 22,
   "metadata": {},
   "outputs": [
    {
     "data": {
      "text/plain": [
       "0"
      ]
     },
     "execution_count": 22,
     "metadata": {},
     "output_type": "execute_result"
    }
   ],
   "source": [
    "customer_universe[customer_universe.SavingAccount_Balance_Average.isnull()].size"
   ]
  },
  {
   "cell_type": "markdown",
   "metadata": {},
   "source": [
    "#### 3.4 Outliers"
   ]
  },
  {
   "cell_type": "code",
   "execution_count": 23,
   "metadata": {},
   "outputs": [],
   "source": [
    "# When we talk about Outliers, we have 3 things to keep in mind:\n",
    "# 1 - The mean - La media\n",
    "# 2 - The mode - La moda\n",
    "# 3 - The median - La mediana (También llamado percentil 50)\n",
    "\n",
    "# The mean: Is the average.\n",
    "# The mode: The most repeated value\n",
    "# The median: Is the value of the 50% of the population.\n",
    "\n",
    "# If the mean is before the median, the distribution has a negative skew(sesgo negativo).\n",
    "# Boxplot method: We have an Outlier if there are values in Q1 - 1.5*IQR or Q3 + 1.5*IQR\n",
    "\n",
    "# IQR (Inter Quartile Range)"
   ]
  },
  {
   "cell_type": "code",
   "execution_count": 24,
   "metadata": {},
   "outputs": [
    {
     "data": {
      "text/html": [
       "<div>\n",
       "<style scoped>\n",
       "    .dataframe tbody tr th:only-of-type {\n",
       "        vertical-align: middle;\n",
       "    }\n",
       "\n",
       "    .dataframe tbody tr th {\n",
       "        vertical-align: top;\n",
       "    }\n",
       "\n",
       "    .dataframe thead th {\n",
       "        text-align: right;\n",
       "    }\n",
       "</style>\n",
       "<table border=\"1\" class=\"dataframe\">\n",
       "  <thead>\n",
       "    <tr style=\"text-align: right;\">\n",
       "      <th></th>\n",
       "      <th>SavingAccount_Balance_Average</th>\n",
       "    </tr>\n",
       "  </thead>\n",
       "  <tbody>\n",
       "    <tr>\n",
       "      <th>count</th>\n",
       "      <td>1.878471e+06</td>\n",
       "    </tr>\n",
       "    <tr>\n",
       "      <th>mean</th>\n",
       "      <td>4.223915e+03</td>\n",
       "    </tr>\n",
       "    <tr>\n",
       "      <th>std</th>\n",
       "      <td>2.278526e+04</td>\n",
       "    </tr>\n",
       "    <tr>\n",
       "      <th>min</th>\n",
       "      <td>-5.665900e+02</td>\n",
       "    </tr>\n",
       "    <tr>\n",
       "      <th>25%</th>\n",
       "      <td>0.000000e+00</td>\n",
       "    </tr>\n",
       "    <tr>\n",
       "      <th>50%</th>\n",
       "      <td>1.062000e+01</td>\n",
       "    </tr>\n",
       "    <tr>\n",
       "      <th>75%</th>\n",
       "      <td>1.484320e+03</td>\n",
       "    </tr>\n",
       "    <tr>\n",
       "      <th>max</th>\n",
       "      <td>1.771201e+06</td>\n",
       "    </tr>\n",
       "  </tbody>\n",
       "</table>\n",
       "</div>"
      ],
      "text/plain": [
       "       SavingAccount_Balance_Average\n",
       "count                   1.878471e+06\n",
       "mean                    4.223915e+03\n",
       "std                     2.278526e+04\n",
       "min                    -5.665900e+02\n",
       "25%                     0.000000e+00\n",
       "50%                     1.062000e+01\n",
       "75%                     1.484320e+03\n",
       "max                     1.771201e+06"
      ]
     },
     "execution_count": 24,
     "metadata": {},
     "output_type": "execute_result"
    }
   ],
   "source": [
    "customer_universe[['SavingAccount_Balance_Average']].describe()"
   ]
  },
  {
   "cell_type": "code",
   "execution_count": 25,
   "metadata": {},
   "outputs": [
    {
     "data": {
      "text/html": [
       "<div>\n",
       "<style scoped>\n",
       "    .dataframe tbody tr th:only-of-type {\n",
       "        vertical-align: middle;\n",
       "    }\n",
       "\n",
       "    .dataframe tbody tr th {\n",
       "        vertical-align: top;\n",
       "    }\n",
       "\n",
       "    .dataframe thead th {\n",
       "        text-align: right;\n",
       "    }\n",
       "</style>\n",
       "<table border=\"1\" class=\"dataframe\">\n",
       "  <thead>\n",
       "    <tr style=\"text-align: right;\">\n",
       "      <th></th>\n",
       "      <th>SavingAccount_Days_with_use</th>\n",
       "    </tr>\n",
       "  </thead>\n",
       "  <tbody>\n",
       "    <tr>\n",
       "      <th>count</th>\n",
       "      <td>1.878471e+06</td>\n",
       "    </tr>\n",
       "    <tr>\n",
       "      <th>mean</th>\n",
       "      <td>2.498057e+00</td>\n",
       "    </tr>\n",
       "    <tr>\n",
       "      <th>std</th>\n",
       "      <td>3.812846e+00</td>\n",
       "    </tr>\n",
       "    <tr>\n",
       "      <th>min</th>\n",
       "      <td>0.000000e+00</td>\n",
       "    </tr>\n",
       "    <tr>\n",
       "      <th>25%</th>\n",
       "      <td>0.000000e+00</td>\n",
       "    </tr>\n",
       "    <tr>\n",
       "      <th>50%</th>\n",
       "      <td>0.000000e+00</td>\n",
       "    </tr>\n",
       "    <tr>\n",
       "      <th>75%</th>\n",
       "      <td>4.000000e+00</td>\n",
       "    </tr>\n",
       "    <tr>\n",
       "      <th>max</th>\n",
       "      <td>4.100000e+01</td>\n",
       "    </tr>\n",
       "  </tbody>\n",
       "</table>\n",
       "</div>"
      ],
      "text/plain": [
       "       SavingAccount_Days_with_use\n",
       "count                 1.878471e+06\n",
       "mean                  2.498057e+00\n",
       "std                   3.812846e+00\n",
       "min                   0.000000e+00\n",
       "25%                   0.000000e+00\n",
       "50%                   0.000000e+00\n",
       "75%                   4.000000e+00\n",
       "max                   4.100000e+01"
      ]
     },
     "execution_count": 25,
     "metadata": {},
     "output_type": "execute_result"
    }
   ],
   "source": [
    "customer_universe[['SavingAccount_Days_with_use']].describe() "
   ]
  },
  {
   "cell_type": "markdown",
   "metadata": {},
   "source": [
    "##### Distribution Plot "
   ]
  },
  {
   "cell_type": "code",
   "execution_count": 32,
   "metadata": {},
   "outputs": [
    {
     "name": "stderr",
     "output_type": "stream",
     "text": [
      "C:\\Users\\santi\\anaconda3\\Lib\\site-packages\\seaborn\\axisgrid.py:118: UserWarning: The figure layout has changed to tight\n",
      "  self._figure.tight_layout(*args, **kwargs)\n"
     ]
    },
    {
     "data": {
      "image/png": "[encoded data removed]",
      "text/plain": [
       "<Figure size 500x500 with 1 Axes>"
      ]
     },
     "metadata": {},
     "output_type": "display_data"
    }
   ],
   "source": [
    "import seaborn as sns\n",
    "import matplotlib.pyplot as plt\n",
    "\n",
    "# plot a distribution plot\n",
    "sns.displot(customer_universe['SavingAccount_Balance_Average'], kind='kde')\n",
    "\n",
    "# display the plot\n",
    "plt.show()"
   ]
  },
  {
   "cell_type": "code",
   "execution_count": 33,
   "metadata": {},
   "outputs": [],
   "source": [
    "# There are a lot of customers that don't use the Saving Account. We need to focus into those who do use it."
   ]
  },
  {
   "cell_type": "code",
   "execution_count": 34,
   "metadata": {},
   "outputs": [
    {
     "data": {
      "image/png": "[encoded data removed]",
      "text/plain": [
       "<Figure size 640x480 with 1 Axes>"
      ]
     },
     "metadata": {},
     "output_type": "display_data"
    }
   ],
   "source": [
    "plt.boxplot(customer_universe['SavingAccount_Balance_Average'])\n",
    "\n",
    "# add labels for five number summary\n",
    "plt.text(x = 1.1, y = customer_universe['SavingAccount_Balance_Average'].min(), s='min')\n",
    "plt.text(x = 1.1, y = customer_universe['SavingAccount_Balance_Average'].quantile(0.25), s='Q1')\n",
    "plt.text(x = 1.1, y = customer_universe['SavingAccount_Balance_Average'].median(), s='median (Q2)')\n",
    "plt.text(x = 1.1, y = customer_universe['SavingAccount_Balance_Average'].quantile(0.75), s='Q3')\n",
    "plt.text(x = 1.1, y = customer_universe['SavingAccount_Balance_Average'].max(), s='max')\n",
    "\n",
    "plt.title('Boxplot of total bill Amount')\n",
    "plt.ylabel('Total bill')\n",
    "\n",
    "plt.show()"
   ]
  },
  {
   "cell_type": "markdown",
   "metadata": {},
   "source": [
    "##### In the above graph, we can see the strong influence of the zeroes. In order to analyze better we need to filter the zeroes and the low values"
   ]
  },
  {
   "cell_type": "code",
   "execution_count": 47,
   "metadata": {},
   "outputs": [
    {
     "name": "stdout",
     "output_type": "stream",
     "text": [
      "Registries with Savings Account positive\n",
      "(546336, 64)\n"
     ]
    }
   ],
   "source": [
    "#Saving Accounts with balance >0 in order to focus in those customers that really use their accounts\n",
    "\n",
    "saving_accounts_positive = customer_universe[customer_universe.SavingAccount_Balance_Average > 1000]\n",
    "print('Registries with Savings Account positive')\n",
    "print(saving_accounts_positive.shape)"
   ]
  },
  {
   "cell_type": "code",
   "execution_count": 48,
   "metadata": {},
   "outputs": [
    {
     "data": {
      "text/html": [
       "<div>\n",
       "<style scoped>\n",
       "    .dataframe tbody tr th:only-of-type {\n",
       "        vertical-align: middle;\n",
       "    }\n",
       "\n",
       "    .dataframe tbody tr th {\n",
       "        vertical-align: top;\n",
       "    }\n",
       "\n",
       "    .dataframe thead th {\n",
       "        text-align: right;\n",
       "    }\n",
       "</style>\n",
       "<table border=\"1\" class=\"dataframe\">\n",
       "  <thead>\n",
       "    <tr style=\"text-align: right;\">\n",
       "      <th></th>\n",
       "      <th>SavingAccount_Balance_Average</th>\n",
       "    </tr>\n",
       "  </thead>\n",
       "  <tbody>\n",
       "    <tr>\n",
       "      <th>count</th>\n",
       "      <td>1.878471e+06</td>\n",
       "    </tr>\n",
       "    <tr>\n",
       "      <th>mean</th>\n",
       "      <td>4.223915e+03</td>\n",
       "    </tr>\n",
       "    <tr>\n",
       "      <th>std</th>\n",
       "      <td>2.278526e+04</td>\n",
       "    </tr>\n",
       "    <tr>\n",
       "      <th>min</th>\n",
       "      <td>-5.665900e+02</td>\n",
       "    </tr>\n",
       "    <tr>\n",
       "      <th>25%</th>\n",
       "      <td>0.000000e+00</td>\n",
       "    </tr>\n",
       "    <tr>\n",
       "      <th>50%</th>\n",
       "      <td>1.062000e+01</td>\n",
       "    </tr>\n",
       "    <tr>\n",
       "      <th>75%</th>\n",
       "      <td>1.484320e+03</td>\n",
       "    </tr>\n",
       "    <tr>\n",
       "      <th>max</th>\n",
       "      <td>1.771201e+06</td>\n",
       "    </tr>\n",
       "  </tbody>\n",
       "</table>\n",
       "</div>"
      ],
      "text/plain": [
       "       SavingAccount_Balance_Average\n",
       "count                   1.878471e+06\n",
       "mean                    4.223915e+03\n",
       "std                     2.278526e+04\n",
       "min                    -5.665900e+02\n",
       "25%                     0.000000e+00\n",
       "50%                     1.062000e+01\n",
       "75%                     1.484320e+03\n",
       "max                     1.771201e+06"
      ]
     },
     "execution_count": 48,
     "metadata": {},
     "output_type": "execute_result"
    }
   ],
   "source": [
    "customer_universe[['SavingAccount_Balance_Average']].describe()"
   ]
  },
  {
   "cell_type": "markdown",
   "metadata": {},
   "source": [
    "##### From the table above, we can see that quantile 0.25 has Zero in their account"
   ]
  },
  {
   "cell_type": "code",
   "execution_count": 49,
   "metadata": {},
   "outputs": [
    {
     "data": {
      "text/html": [
       "<div>\n",
       "<style scoped>\n",
       "    .dataframe tbody tr th:only-of-type {\n",
       "        vertical-align: middle;\n",
       "    }\n",
       "\n",
       "    .dataframe tbody tr th {\n",
       "        vertical-align: top;\n",
       "    }\n",
       "\n",
       "    .dataframe thead th {\n",
       "        text-align: right;\n",
       "    }\n",
       "</style>\n",
       "<table border=\"1\" class=\"dataframe\">\n",
       "  <thead>\n",
       "    <tr style=\"text-align: right;\">\n",
       "      <th></th>\n",
       "      <th>SavingAccount_Balance_Average</th>\n",
       "    </tr>\n",
       "  </thead>\n",
       "  <tbody>\n",
       "    <tr>\n",
       "      <th>count</th>\n",
       "      <td>5.463360e+05</td>\n",
       "    </tr>\n",
       "    <tr>\n",
       "      <th>mean</th>\n",
       "      <td>1.428377e+04</td>\n",
       "    </tr>\n",
       "    <tr>\n",
       "      <th>std</th>\n",
       "      <td>4.052454e+04</td>\n",
       "    </tr>\n",
       "    <tr>\n",
       "      <th>min</th>\n",
       "      <td>1.000010e+03</td>\n",
       "    </tr>\n",
       "    <tr>\n",
       "      <th>25%</th>\n",
       "      <td>1.995475e+03</td>\n",
       "    </tr>\n",
       "    <tr>\n",
       "      <th>50%</th>\n",
       "      <td>4.165715e+03</td>\n",
       "    </tr>\n",
       "    <tr>\n",
       "      <th>75%</th>\n",
       "      <td>1.112809e+04</td>\n",
       "    </tr>\n",
       "    <tr>\n",
       "      <th>max</th>\n",
       "      <td>1.771201e+06</td>\n",
       "    </tr>\n",
       "  </tbody>\n",
       "</table>\n",
       "</div>"
      ],
      "text/plain": [
       "       SavingAccount_Balance_Average\n",
       "count                   5.463360e+05\n",
       "mean                    1.428377e+04\n",
       "std                     4.052454e+04\n",
       "min                     1.000010e+03\n",
       "25%                     1.995475e+03\n",
       "50%                     4.165715e+03\n",
       "75%                     1.112809e+04\n",
       "max                     1.771201e+06"
      ]
     },
     "execution_count": 49,
     "metadata": {},
     "output_type": "execute_result"
    }
   ],
   "source": [
    "saving_accounts_positive[['SavingAccount_Balance_Average']].describe()"
   ]
  },
  {
   "cell_type": "code",
   "execution_count": 50,
   "metadata": {},
   "outputs": [
    {
     "name": "stderr",
     "output_type": "stream",
     "text": [
      "C:\\Users\\santi\\anaconda3\\Lib\\site-packages\\seaborn\\axisgrid.py:118: UserWarning: The figure layout has changed to tight\n",
      "  self._figure.tight_layout(*args, **kwargs)\n"
     ]
    },
    {
     "data": {
      "image/png": "[encoded data removed]",
      "text/plain": [
       "<Figure size 500x500 with 1 Axes>"
      ]
     },
     "metadata": {},
     "output_type": "display_data"
    }
   ],
   "source": [
    "\n",
    "# plot a distribution plot\n",
    "sns.displot(saving_accounts_positive['SavingAccount_Balance_Average'], kind='kde')\n",
    "\n",
    "# display the plot\n",
    "plt.show()"
   ]
  },
  {
   "cell_type": "code",
   "execution_count": null,
   "metadata": {},
   "outputs": [],
   "source": []
  }
 ],
 "metadata": {
  "kernelspec": {
   "display_name": "Python 3 (ipykernel)",
   "language": "python",
   "name": "python3"
  },
  "language_info": {
   "codemirror_mode": {
    "name": "ipython",
    "version": 3
   },
   "file_extension": ".py",
   "mimetype": "text/x-python",
   "name": "python",
   "nbconvert_exporter": "python",
   "pygments_lexer": "ipython3",
   "version": "3.11.5"
  }
 },
 "nbformat": 4,
 "nbformat_minor": 2
}
